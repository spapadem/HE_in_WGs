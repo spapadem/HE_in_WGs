{
 "cells": [
  {
   "cell_type": "code",
   "execution_count": 2,
   "id": "98191b36-4269-4ad7-aced-c7bf30207a59",
   "metadata": {
    "tags": []
   },
   "outputs": [
    {
     "ename": "ModuleNotFoundError",
     "evalue": "No module named 'ngsolve'",
     "output_type": "error",
     "traceback": [
      "\u001b[0;31m---------------------------------------------------------------------------\u001b[0m",
      "\u001b[0;31mModuleNotFoundError\u001b[0m                       Traceback (most recent call last)",
      "Cell \u001b[0;32mIn[2], line 1\u001b[0m\n\u001b[0;32m----> 1\u001b[0m \u001b[38;5;28;01mfrom\u001b[39;00m \u001b[38;5;21;01mngsolve\u001b[39;00m \u001b[38;5;28;01mimport\u001b[39;00m \u001b[38;5;241m*\u001b[39m\n\u001b[1;32m      2\u001b[0m \u001b[38;5;28;01mfrom\u001b[39;00m \u001b[38;5;21;01mngsolve\u001b[39;00m\u001b[38;5;21;01m.\u001b[39;00m\u001b[38;5;21;01mwebgui\u001b[39;00m \u001b[38;5;28;01mimport\u001b[39;00m Draw\n\u001b[1;32m      3\u001b[0m \u001b[38;5;28;01mfrom\u001b[39;00m \u001b[38;5;21;01mnetgen\u001b[39;00m\u001b[38;5;21;01m.\u001b[39;00m\u001b[38;5;21;01mocc\u001b[39;00m \u001b[38;5;28;01mimport\u001b[39;00m \u001b[38;5;241m*\u001b[39m\n",
      "\u001b[0;31mModuleNotFoundError\u001b[0m: No module named 'ngsolve'"
     ]
    }
   ],
   "source": [
    "# from ngsolve import *\n",
    "# from ngsolve.webgui import Draw\n",
    "from netgen.occ import *\n",
    "from netgen.geom2d import SplineGeometry\n",
    "\n",
    "'''\n",
    "air = Rectangle(500, 200).Face()\n",
    "air.edges.name = 'outer'\n",
    "scatterer = Circle((350, 100),20).Face()\n",
    "scatterer.edges.name = 'scat'\n",
    "'''\n",
    "air = Rectangle(580,200).Circle(375,100,20).Reverse().Face()\n",
    "\n",
    "geo = OCCGeometry(air, dim=2)\n",
    "mesh = Mesh(geo.GenerateMesh(maxh=20))\n",
    "#Draw(mesh);\n",
    "\n",
    "fes = H1(mesh, order=5, complex=True)\n",
    "u, v = fes.TnT()\n",
    "\n",
    "#Wavenumber & source\n",
    "cspeed = 1500.\n",
    "freq = 20.\n",
    "x0=20.\n",
    "y0=36.\n",
    "omega = 2.*pi*freq / cspeed\n",
    "ScaleFactor = 1e1\n",
    "\n",
    "pulse = ScaleFactor *exp(-(omega**2)*((x-x0)*(x-x0) + (y-y0)*(y-y0)))\n",
    "\n",
    "\n",
    "a = BilinearForm(fes)\n",
    "a += grad(u)*grad(v)*dx - omega**2*u*v*dx\n",
    "a += -omega*1j*u*v * ds(\"outer\")\n",
    "a.Assemble()\n",
    "\n",
    "f = LinearForm(pulse * v * dx).Assemble();\n",
    "\n",
    "gfu = GridFunction(fes, name=\"u\")\n",
    "gfu.vec.data = a.mat.Inverse() * f.vec\n",
    "Draw(gfu, mesh, min=-1, max=1, order=3, animate_complex=True);\n",
    "\n",
    "\n"
   ]
  },
  {
   "cell_type": "code",
   "execution_count": null,
   "id": "cb82797c-191c-4f6e-aabc-8fae7a653e39",
   "metadata": {},
   "outputs": [],
   "source": []
  }
 ],
 "metadata": {
  "kernelspec": {
   "display_name": "Python 3 (ipykernel)",
   "language": "python",
   "name": "python3"
  },
  "language_info": {
   "codemirror_mode": {
    "name": "ipython",
    "version": 3
   },
   "file_extension": ".py",
   "mimetype": "text/x-python",
   "name": "python",
   "nbconvert_exporter": "python",
   "pygments_lexer": "ipython3",
   "version": "3.11.4"
  }
 },
 "nbformat": 4,
 "nbformat_minor": 5
}
